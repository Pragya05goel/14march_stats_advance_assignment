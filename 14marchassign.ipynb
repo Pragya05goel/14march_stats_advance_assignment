{
 "cells": [
  {
   "cell_type": "markdown",
   "id": "877807e6-3af2-4f92-ba39-83f35ae44e15",
   "metadata": {},
   "source": [
    "# **ASSIGNMENT**"
   ]
  },
  {
   "cell_type": "markdown",
   "id": "6e17589e-9b12-4880-8100-12d8e7e34762",
   "metadata": {},
   "source": [
    "**Q1. Write a Python function that takes in two arrays of data and calculates the F-value for a variance ratio\n",
    "test. The function should return the F-value and the corresponding p-value for the test.**"
   ]
  },
  {
   "cell_type": "code",
   "execution_count": 1,
   "id": "aeb3ed36-4deb-421c-bd08-95abd9e3436e",
   "metadata": {},
   "outputs": [],
   "source": [
    "import scipy.stats as stat\n",
    "import numpy as np\n",
    "\n",
    "def f_value(arr1,arr2):\n",
    "    dof1=len(arr1)-1\n",
    "    dof2=len(arr2)-1\n",
    "    f_value=np.var(arr1)/np.var(arr2)\n",
    "    p_value=1-stat.f.cdf(f_value,dof1,dof2)\n",
    "    \n",
    "    return f_value,p_value"
   ]
  },
  {
   "cell_type": "code",
   "execution_count": 2,
   "id": "7bc1d125-4ce4-4c2d-b139-69fa286b53aa",
   "metadata": {},
   "outputs": [
    {
     "data": {
      "text/plain": [
       "(100.0, 0.0002921476345262297)"
      ]
     },
     "execution_count": 2,
     "metadata": {},
     "output_type": "execute_result"
    }
   ],
   "source": [
    "ar1=[10,20,30,40,50]\n",
    "ar2=[1,2,3,4,5]\n",
    "f_value(ar1,ar2)"
   ]
  },
  {
   "cell_type": "markdown",
   "id": "99dc7df8-ed61-444f-bb53-6414d20f27db",
   "metadata": {},
   "source": [
    "**Q2. Given a significance level of 0.05 and the degrees of freedom for the numerator and denominator of an\n",
    "F-distribution, write a Python function that returns the critical F-value for a two-tailed test.**"
   ]
  },
  {
   "cell_type": "code",
   "execution_count": 3,
   "id": "8253a378-12b1-4c80-93ed-51ff8e6330d2",
   "metadata": {},
   "outputs": [],
   "source": [
    "def critical_f_value(dof1,dof2,significance_level):\n",
    "    \n",
    "    critical_value=stat.f.ppf(q=1-significance_level,dfn=dof1,dfd=dof2)\n",
    "    \n",
    "    return critical_value"
   ]
  },
  {
   "cell_type": "code",
   "execution_count": 4,
   "id": "9c87b97e-8c37-44b0-94d4-782105d85c33",
   "metadata": {},
   "outputs": [
    {
     "data": {
      "text/plain": [
       "3.9715231506113415"
      ]
     },
     "execution_count": 4,
     "metadata": {},
     "output_type": "execute_result"
    }
   ],
   "source": [
    "critical_f_value(5,7,0.05)"
   ]
  },
  {
   "cell_type": "markdown",
   "id": "478c5e37-a0df-4c4c-b4be-e50804e9db5e",
   "metadata": {},
   "source": [
    "**Q3. Write a Python program that generates random samples from two normal distributions with known\n",
    "variances and uses an F-test to determine if the variances are equal. The program should output the F-\n",
    "value, degrees of freedom, and p-value for the test.**"
   ]
  },
  {
   "cell_type": "code",
   "execution_count": 5,
   "id": "fd78dd6f-9684-4e51-9636-3b1c0cde54f2",
   "metadata": {},
   "outputs": [],
   "source": [
    "import scipy.stats as stat\n",
    "def random_sample_f_test():\n",
    "    \n",
    "    np.random.seed(42)\n",
    "    sample1 = np.random.normal(loc=0, scale=1, size=100)\n",
    "    sample2 = np.random.normal(loc=0, scale=1, size=100)\n",
    "    \n",
    "    f_value_random=np.var(sample1)/np.var(sample2)\n",
    "    \n",
    "    dof1=len(sample1)-1\n",
    "    dof2=len(sample2)-1\n",
    "\n",
    "    \n",
    "    p_value=1-stat.f.cdf(f_value_random,dof1,dof2)\n",
    "     \n",
    "\n",
    "    return(f_value_random,(dof1,dof2),p_value)"
   ]
  },
  {
   "cell_type": "code",
   "execution_count": 6,
   "id": "f6ff39a3-6f61-4cd4-b62e-8caf410dcbed",
   "metadata": {},
   "outputs": [
    {
     "data": {
      "text/plain": [
       "(0.9068542633718679, (99, 99), 0.6861951800503538)"
      ]
     },
     "execution_count": 6,
     "metadata": {},
     "output_type": "execute_result"
    }
   ],
   "source": [
    "random_sample_f_test()"
   ]
  },
  {
   "cell_type": "markdown",
   "id": "ff8f3cac-6ac3-47e2-8a2b-7d4b220548c4",
   "metadata": {},
   "source": [
    "**Q4.The variances of two populations are known to be 10 and 15. A sample of 12 observations is taken from\n",
    "each population. Conduct an F-test at the 5% significance level to determine if the variances are\n",
    "significantly different.**"
   ]
  },
  {
   "cell_type": "code",
   "execution_count": 7,
   "id": "2505e6e9-eeac-4864-8a65-1abacacb86c0",
   "metadata": {},
   "outputs": [],
   "source": [
    "def var_f_test(var1,var2,no_of_obs1,no_of_obs2,significance):\n",
    "    \n",
    "    var_f_value=var1/var2\n",
    "    \n",
    "    dof1=no_of_obs1-1\n",
    "    dof2=no_of_obs2-1\n",
    "    var_f_critical_value=stat.f.ppf(q=1-significance,dfn=dof1,dfd=dof2)\n",
    "    \n",
    "    \n",
    "    if(var_f_value>var_f_critical_value):\n",
    "        return(\"Reject the null hypothesis. The variances are significantly different.\")\n",
    "    else:\n",
    "        return(\"Fail to reject the null hypothesis. The variances are not significantly different.\")"
   ]
  },
  {
   "cell_type": "code",
   "execution_count": 8,
   "id": "00c39a91-7118-472c-96c3-e2ca8dc17d89",
   "metadata": {},
   "outputs": [
    {
     "data": {
      "text/plain": [
       "'Fail to reject the null hypothesis. The variances are not significantly different.'"
      ]
     },
     "execution_count": 8,
     "metadata": {},
     "output_type": "execute_result"
    }
   ],
   "source": [
    "var_f_test(10,15,12,12,0.05)"
   ]
  },
  {
   "cell_type": "markdown",
   "id": "96ce4083-aac1-408f-bd64-a52f89811f03",
   "metadata": {},
   "source": [
    "**Q5. A manufacturer claims that the variance of the diameter of a certain product is 0.005. A sample of 25\n",
    "products is taken, and the sample variance is found to be 0.006. Conduct an F-test at the 1% significance\n",
    "level to determine if the claim is justified.**"
   ]
  },
  {
   "cell_type": "code",
   "execution_count": 9,
   "id": "4133e28d-f8f0-4603-b42e-d3fc569a48f0",
   "metadata": {},
   "outputs": [
    {
     "name": "stdout",
     "output_type": "stream",
     "text": [
      "Fail to reject the null hypothesis. The claim is justified.\n"
     ]
    }
   ],
   "source": [
    "import scipy.stats as stats\n",
    "\n",
    "def diameter_f_test(claim_variance, sample_variance, sample_size, significance):\n",
    "    dof1 = sample_size - 1  # Degrees of freedom for the numerator\n",
    "    dof2 = sample_size - 1  # Degrees of freedom for the denominator\n",
    "\n",
    "    f_critical = stats.f.ppf(1 - significance, dof1, dof2)  # Critical F-value\n",
    "\n",
    "    f_value = sample_variance / claim_variance  # Calculated F-value\n",
    "\n",
    "    if f_value > f_critical:\n",
    "        return \"Reject the null hypothesis. The claim is not justified.\"\n",
    "    else:\n",
    "        return \"Fail to reject the null hypothesis. The claim is justified.\"\n",
    "\n",
    "# Example usage\n",
    "claim_variance = 0.005\n",
    "sample_variance = 0.006\n",
    "sample_size = 25\n",
    "significance = 0.01\n",
    "\n",
    "result = diameter_f_test(claim_variance, sample_variance, sample_size, significance)\n",
    "print(result)\n"
   ]
  },
  {
   "cell_type": "markdown",
   "id": "cc4a58f1-dad4-455b-9094-dbfc914a1ec9",
   "metadata": {},
   "source": [
    "**Q6. Write a Python function that takes in the degrees of freedom for the numerator and denominator of an\n",
    "F-distribution and calculates the mean and variance of the distribution. The function should return the\n",
    "mean and variance as a tuple.**"
   ]
  },
  {
   "cell_type": "code",
   "execution_count": 10,
   "id": "10adf45d-e6b9-42ae-a1e8-baaaacc77ed6",
   "metadata": {},
   "outputs": [],
   "source": [
    "def mean_variance(dfn,dfd):\n",
    "    \n",
    "    if(dfd>2):\n",
    "        dist_mean=(dfd) / (dfd - 2)\n",
    "        \n",
    "    if(dfd > 4):\n",
    "        dist_variance=(2 * (dfd**2) * (dfn + dfd - 2)) / ((dfn * (dfd - 2)**2 * (dfd - 4))) \n",
    "        \n",
    "    return (dist_mean,dist_variance)  "
   ]
  },
  {
   "cell_type": "code",
   "execution_count": 11,
   "id": "f70c4c86-77cc-4274-91d7-6b08262bde49",
   "metadata": {},
   "outputs": [
    {
     "data": {
      "text/plain": [
       "(1.3333333333333333, 2.6666666666666665)"
      ]
     },
     "execution_count": 11,
     "metadata": {},
     "output_type": "execute_result"
    }
   ],
   "source": [
    "mean_variance(3,8)"
   ]
  },
  {
   "cell_type": "markdown",
   "id": "503d3ab7-cf7d-4efb-8e3f-6b34b162f4b4",
   "metadata": {},
   "source": [
    "**Q7. A random sample of 10 measurements is taken from a normal population with unknown variance. The\n",
    "sample variance is found to be 25. Another random sample of 15 measurements is taken from another\n",
    "normal population with unknown variance, and the sample variance is found to be 20. Conduct an F-test\n",
    "at the 10% significance level to determine if the variances are significantly different.**"
   ]
  },
  {
   "cell_type": "code",
   "execution_count": 12,
   "id": "898458c1-3fa9-425a-ae27-c1ca708b46f7",
   "metadata": {},
   "outputs": [],
   "source": [
    "def norm_f_test(var1,var2,no_of_obs1,no_of_obs2,significance):\n",
    "    \n",
    "    norm_f_value=var1/var2\n",
    "    \n",
    "    dof1=no_of_obs1-1\n",
    "    dof2=no_of_obs2-1\n",
    "    norm_f_critical_value=stat.f.ppf(q=1-significance,dfn=dof1,dfd=dof2)\n",
    "    \n",
    "    \n",
    "    if(norm_f_value>norm_f_critical_value):\n",
    "        return(\"Reject the null hypothesis\")\n",
    "    else:\n",
    "        return(\"Fail to reject the null hypothesis\")\n"
   ]
  },
  {
   "cell_type": "code",
   "execution_count": 13,
   "id": "b2d31f6b-37cd-43a2-98ca-e4935e40b028",
   "metadata": {},
   "outputs": [
    {
     "data": {
      "text/plain": [
       "'Fail to reject the null hypothesis'"
      ]
     },
     "execution_count": 13,
     "metadata": {},
     "output_type": "execute_result"
    }
   ],
   "source": [
    "norm_f_test(25,20,10,15,0.10)"
   ]
  },
  {
   "cell_type": "markdown",
   "id": "9a54e175-d553-4463-a467-ab600e52ce4b",
   "metadata": {},
   "source": [
    "**Q8. The following data represent the waiting times in minutes at two different restaurants on a Saturday\n",
    "night: Restaurant A: 24, 25, 28, 23, 22, 20, 27; Restaurant B: 31, 33, 35, 30, 32, 36. Conduct an F-test at the 5%\n",
    "significance level to determine if the variances are significantly different.**"
   ]
  },
  {
   "cell_type": "code",
   "execution_count": 14,
   "id": "590fcb34-d6c8-44c1-af04-e3d3541be777",
   "metadata": {},
   "outputs": [
    {
     "name": "stdout",
     "output_type": "stream",
     "text": [
      "Fail to reject the null hypothesis\n"
     ]
    }
   ],
   "source": [
    "a=[24, 25, 28, 23, 22, 20, 27]\n",
    "b=[31, 33, 35, 30, 32, 36]\n",
    "significance=0.05\n",
    "dof1=len(a)-1\n",
    "dof2=len(b)-1\n",
    "f_value=np.var(a)/np.var(b)\n",
    "\n",
    "f_critical_value=stat.f.ppf(q=1-significance,dfn=dof1,dfd=dof2)\n",
    "    \n",
    "    \n",
    "if(f_value>f_critical_value):\n",
    "    print(\"Reject the null hypothesis\")\n",
    "else:\n",
    "    print(\"Fail to reject the null hypothesis\")"
   ]
  },
  {
   "cell_type": "markdown",
   "id": "586a8acf-99b8-4171-b4b0-30b6f8bc6b09",
   "metadata": {},
   "source": [
    "**Q9. The following data represent the test scores of two groups of students: Group A: 80, 85, 90, 92, 87, 83;\n",
    "Group B: 75, 78, 82, 79, 81, 84. Conduct an F-test at the 1% significance level to determine if the variances\n",
    "are significantly different.**"
   ]
  },
  {
   "cell_type": "code",
   "execution_count": 15,
   "id": "1af1bd08-83cd-44e6-a3a8-3021fb51f1a0",
   "metadata": {},
   "outputs": [
    {
     "name": "stdout",
     "output_type": "stream",
     "text": [
      "Fail to reject the null hypothesis\n"
     ]
    }
   ],
   "source": [
    "new_a=[80, 85, 90, 92, 87, 83]\n",
    "new_b=[75, 78, 82, 79, 81, 84]\n",
    "significance=0.01\n",
    "dof1=len(new_a)-1\n",
    "dof2=len(new_b)-1\n",
    "f_value=np.var(new_a)/np.var(new_b)\n",
    "\n",
    "f_critical_value=stat.f.ppf(q=1-significance,dfn=dof1,dfd=dof2)\n",
    "    \n",
    "    \n",
    "if(f_value>f_critical_value):\n",
    "    print(\"Reject the null hypothesis\")\n",
    "else:\n",
    "    print(\"Fail to reject the null hypothesis\")"
   ]
  },
  {
   "cell_type": "markdown",
   "id": "09bb7723-03b7-4f4d-8cc3-6f39abfbf88c",
   "metadata": {},
   "source": [
    "-------------------"
   ]
  },
  {
   "cell_type": "code",
   "execution_count": null,
   "id": "73e5c2cd-3e7a-4f7b-9f63-e40b0f2f71dd",
   "metadata": {},
   "outputs": [],
   "source": []
  }
 ],
 "metadata": {
  "kernelspec": {
   "display_name": "Python 3 (ipykernel)",
   "language": "python",
   "name": "python3"
  },
  "language_info": {
   "codemirror_mode": {
    "name": "ipython",
    "version": 3
   },
   "file_extension": ".py",
   "mimetype": "text/x-python",
   "name": "python",
   "nbconvert_exporter": "python",
   "pygments_lexer": "ipython3",
   "version": "3.10.8"
  }
 },
 "nbformat": 4,
 "nbformat_minor": 5
}
